{
  "cells": [
    {
      "cell_type": "markdown",
      "metadata": {
        "id": "view-in-github",
        "colab_type": "text"
      },
      "source": [
        "<a href=\"https://colab.research.google.com/github/kktsuji/train-lora-cell-rois/blob/main/train_lora_cell_rois.ipynb\" target=\"_parent\"><img src=\"https://colab.research.google.com/assets/colab-badge.svg\" alt=\"Open In Colab\"/></a>"
      ]
    },
    {
      "cell_type": "code",
      "execution_count": null,
      "metadata": {
        "id": "FPzC39ZGci3G"
      },
      "outputs": [],
      "source": [
        "from google.colab import drive\n",
        "drive.mount('/content/drive')"
      ]
    },
    {
      "cell_type": "code",
      "execution_count": null,
      "metadata": {
        "id": "Co02Ub7npllS"
      },
      "outputs": [],
      "source": [
        "def runtime_unassign():\n",
        "  from google.colab import runtime\n",
        "  runtime.unassign()"
      ]
    },
    {
      "cell_type": "code",
      "execution_count": null,
      "metadata": {
        "id": "aOMYXJ_44urC"
      },
      "outputs": [],
      "source": [
        "# Variable Settings\n",
        "\n",
        "# RESOLUTION = \"40\" # original size\n",
        "# RESOLUTION = \"256\"\n",
        "RESOLUTION = \"512\" # recommended for sd-1.x\n",
        "\n",
        "TRAIN_BATCH_SIZE = \"15\" # 1, 2, 4, 37, 74, 148\n",
        "NUM_TRAIN_EPOCHS = \"600\"\n",
        "\n",
        "out_dir_name = f\"cell-rois_lora_resolution-{RESOLUTION}_train-bach-size-{TRAIN_BATCH_SIZE}_epochs-{NUM_TRAIN_EPOCHS}\""
      ]
    },
    {
      "cell_type": "code",
      "execution_count": null,
      "metadata": {
        "id": "8Kv_xTpGeVqE"
      },
      "outputs": [],
      "source": [
        "import os\n",
        "\n",
        "out_dir_path = f\"./{out_dir_name}/\"\n",
        "log_dir_path = f\"./{out_dir_name}/logs/\"\n",
        "if not os.path.exists(out_dir_path):\n",
        "  os.makedirs(out_dir_path)\n",
        "if not os.path.exists(log_dir_path):\n",
        "  os.makedirs(log_dir_path)\n",
        "print(out_dir_path)\n",
        "print(log_dir_path)\n",
        "\n",
        "base_data_dir_path = \"/content/drive/MyDrive/Research/Data/250606_cell_rois/pseudo_rgb/\"\n",
        "print(base_data_dir_path)\n",
        "\n",
        "model_id = \"CompVis/stable-diffusion-v1-4\"\n",
        "model_dir_path = \"/content/drive/MyDrive/Research/Models/\" + model_id\n",
        "print(model_dir_path)\n",
        "\n",
        "if (os.path.exists(out_dir_path) and\n",
        "  os.path.exists(log_dir_path) and\n",
        "  os.path.exists(base_data_dir_path) and\n",
        "  os.path.exists(model_dir_path)):\n",
        "  print(\"All directories exist\")\n",
        "else:\n",
        "  runtime_unassign()\n",
        "  raise Exception(\"Directory not found\")"
      ]
    },
    {
      "cell_type": "code",
      "execution_count": null,
      "metadata": {
        "id": "Plomt4WcKFHp"
      },
      "outputs": [],
      "source": [
        "if not os.path.exists(model_dir_path):\n",
        "  from diffusers import StableDiffusionPipeline\n",
        "  import torch\n",
        "  os.makedirs(model_dir_path)\n",
        "  pipe = StableDiffusionPipeline.from_pretrained(model_id, torch_dtype=torch.float32)\n",
        "  pipe.save_pretrained(model_dir_path)"
      ]
    },
    {
      "cell_type": "code",
      "execution_count": null,
      "metadata": {
        "id": "01v6bCHo-Zgb"
      },
      "outputs": [],
      "source": [
        "!git clone -b develop https://github.com/kktsuji/peft.git\n",
        "\n",
        "import sys\n",
        "sys.path.append('./peft/examples/stable_diffusion')\n",
        "import train_dreambooth\n",
        "\n",
        "print(train_dreambooth.UNET_TARGET_MODULES)\n",
        "\n",
        "# for \"CompVis/stable-diffusion-v1-4\"\n",
        "unet_target_modules = [\n",
        "    # Convolution layers\n",
        "    \"conv_in\", \"conv1\", \"conv2\", \"conv_out\",\n",
        "    \"conv_shortcut\", \"conv\",\n",
        "    # Linear layers\n",
        "    \"to_q\", \"to_k\", \"to_v\", \"to_out.0\",\n",
        "    \"linear_1\", \"linear_2\", \"proj_in\", \"proj_out\", \"proj\",\n",
        "    \"time_emb_proj\", \"ff.net.0.proj\", \"ff.net.2\",\n",
        "]\n",
        "\n",
        "train_dreambooth.UNET_TARGET_MODULES = unet_target_modules\n",
        "print(train_dreambooth.UNET_TARGET_MODULES)"
      ]
    },
    {
      "cell_type": "code",
      "execution_count": null,
      "metadata": {
        "colab": {
          "background_save": true
        },
        "id": "BGQ8iM4g7OoX"
      },
      "outputs": [],
      "source": [
        "input_args = [\n",
        "    \"--pretrained_model_name_or_path\", model_dir_path,\n",
        "    \"--instance_data_dir\", base_data_dir_path,\n",
        "    \"--instance_prompt\", \"rds\",\n",
        "    \"--seed\", \"0\",\n",
        "    \"--resolution\", RESOLUTION,\n",
        "    \"--train_batch_size\", TRAIN_BATCH_SIZE,\n",
        "    \"--output_dir\", out_dir_path,\n",
        "    \"--num_train_epochs\", NUM_TRAIN_EPOCHS,\n",
        "    \"--lr_scheduler\", \"cosine\",\n",
        "    \"--lr_warmup_steps\", \"5\",\n",
        "    \"--learning_rate\", \"1e-4\",\n",
        "    \"--logging_dir\", \"logs\",\n",
        "    \"--report_to\", \"tensorboard\",\n",
        "    \"--save_every_n_epochs\", \"50\",\n",
        "    \"--save_best_model\",\n",
        "    \"--loss_improvement_threshold\", \"0.01\",\n",
        "    \"lora\",\n",
        "    \"--unet_r\", \"16\",\n",
        "    \"--unet_alpha\", \"16\"\n",
        "]\n",
        "\n",
        "try:\n",
        "  args = train_dreambooth.parse_args(input_args)\n",
        "  train_dreambooth.main(args)\n",
        "except Exception as e:\n",
        "  print(e)\n",
        "  runtime_unassign()"
      ]
    },
    {
      "cell_type": "code",
      "execution_count": null,
      "metadata": {
        "id": "gEFldBlS5Dpj"
      },
      "outputs": [],
      "source": [
        "drive_out_dir_path = f\"/content/drive/MyDrive/Research/LoRAs/\"\n",
        "!cp -r {out_dir_path} {drive_out_dir_path}"
      ]
    },
    {
      "cell_type": "code",
      "execution_count": null,
      "metadata": {
        "id": "jXzZETvasFM3"
      },
      "outputs": [],
      "source": [
        "from google.colab import runtime\n",
        "runtime.unassign()"
      ]
    }
  ],
  "metadata": {
    "accelerator": "GPU",
    "colab": {
      "gpuType": "A100",
      "provenance": [],
      "authorship_tag": "ABX9TyN2CKTyrmSxxTLAxwurZUmc",
      "include_colab_link": true
    },
    "kernelspec": {
      "display_name": "Python 3",
      "name": "python3"
    },
    "language_info": {
      "name": "python"
    }
  },
  "nbformat": 4,
  "nbformat_minor": 0
}