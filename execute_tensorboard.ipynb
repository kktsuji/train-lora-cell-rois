{
  "nbformat": 4,
  "nbformat_minor": 0,
  "metadata": {
    "colab": {
      "provenance": [],
      "authorship_tag": "ABX9TyNe/dSQQ7cs4NYW/qHxRETx",
      "include_colab_link": true
    },
    "kernelspec": {
      "name": "python3",
      "display_name": "Python 3"
    },
    "language_info": {
      "name": "python"
    }
  },
  "cells": [
    {
      "cell_type": "markdown",
      "metadata": {
        "id": "view-in-github",
        "colab_type": "text"
      },
      "source": [
        "<a href=\"https://colab.research.google.com/github/kktsuji/train-lora-cell-rois/blob/main/execute_tensorboard.ipynb\" target=\"_parent\"><img src=\"https://colab.research.google.com/assets/colab-badge.svg\" alt=\"Open In Colab\"/></a>"
      ]
    },
    {
      "cell_type": "code",
      "execution_count": null,
      "metadata": {
        "id": "VvLZWdTuzbZb"
      },
      "outputs": [],
      "source": [
        "from google.colab import drive\n",
        "drive.mount('/content/drive')"
      ]
    },
    {
      "cell_type": "code",
      "source": [
        "# Variable Settings\n",
        "\n",
        "# RESOLUTION = \"40\" # original size\n",
        "# RESOLUTION = \"256\"\n",
        "RESOLUTION = \"512\" # recommended for sd-1.x\n",
        "\n",
        "TRAIN_BATCH_SIZE = \"10\" # 1, 2, 4, 37, 74, 148\n",
        "NUM_TRAIN_EPOCHS = \"600\"\n",
        "\n",
        "out_dir_name = f\"cell-rois_lora_resolution-{RESOLUTION}_train-bach-size-{TRAIN_BATCH_SIZE}_epochs-{NUM_TRAIN_EPOCHS}\"\n",
        "\n",
        "lora_dir_path = f\"/content/drive/MyDrive/Research/LoRAs/\""
      ],
      "metadata": {
        "id": "xdQfGr2EzxhS"
      },
      "execution_count": null,
      "outputs": []
    },
    {
      "cell_type": "code",
      "source": [
        "import os\n",
        "\n",
        "%load_ext tensorboard\n",
        "%tensorboard --logdir {lora_dir_path}/{out_dir_name}/logs/dreambooth"
      ],
      "metadata": {
        "id": "8N2oGcxUzyBB"
      },
      "execution_count": null,
      "outputs": []
    }
  ]
}