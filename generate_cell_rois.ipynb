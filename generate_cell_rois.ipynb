{
  "nbformat": 4,
  "nbformat_minor": 0,
  "metadata": {
    "colab": {
      "provenance": [],
      "gpuType": "T4",
      "authorship_tag": "ABX9TyO5xDRIr6c6yJFDR2uBTLX0",
      "include_colab_link": true
    },
    "kernelspec": {
      "name": "python3",
      "display_name": "Python 3"
    },
    "language_info": {
      "name": "python"
    },
    "accelerator": "GPU"
  },
  "cells": [
    {
      "cell_type": "markdown",
      "metadata": {
        "id": "view-in-github",
        "colab_type": "text"
      },
      "source": [
        "<a href=\"https://colab.research.google.com/github/kktsuji/train-lora-cell-rois/blob/main/generate_cell_rois.ipynb\" target=\"_parent\"><img src=\"https://colab.research.google.com/assets/colab-badge.svg\" alt=\"Open In Colab\"/></a>"
      ]
    },
    {
      "cell_type": "code",
      "source": [
        "from google.colab import drive\n",
        "drive.mount('/content/drive')"
      ],
      "metadata": {
        "id": "IoOqX5uUYIUU"
      },
      "execution_count": null,
      "outputs": []
    },
    {
      "cell_type": "code",
      "execution_count": null,
      "metadata": {
        "id": "_Dgo7GXoW5Yg"
      },
      "outputs": [],
      "source": [
        "from diffusers import StableDiffusionPipeline\n",
        "import torch\n",
        "from peft import PeftModel"
      ]
    },
    {
      "cell_type": "code",
      "source": [
        "# Variable Settings\n",
        "\n",
        "# RESOLUTION = \"40\" # original size\n",
        "# RESOLUTION = \"256\"\n",
        "RESOLUTION = \"512\" # recommended for sd-1.x\n",
        "\n",
        "NUM_TRAIN_EPOCHS = \"200\"\n",
        "\n",
        "lora_dir_name = f\"cell-rois_lora_resolution-{RESOLUTION}_epochs-{NUM_TRAIN_EPOCHS}\""
      ],
      "metadata": {
        "id": "C7Brl9QfqWIU"
      },
      "execution_count": null,
      "outputs": []
    },
    {
      "cell_type": "code",
      "source": [
        "import os\n",
        "\n",
        "lora_path = f\"/content/drive/MyDrive/Research/LoRAs/{lora_dir_name}/unet/\"\n",
        "print(lora_path)\n",
        "\n",
        "model_id = \"CompVis/stable-diffusion-v1-4\"\n",
        "model_dir_path = \"/content/drive/MyDrive/Research/Models/\" + model_id\n",
        "print(model_dir_path)\n",
        "\n",
        "out_dir = f\"/content/drive/MyDrive/Research/Results/{lora_dir_name}/\"\n",
        "if not os.path.exists(out_dir):\n",
        "  os.makedirs(out_dir)\n",
        "print(out_dir)\n",
        "\n",
        "if (os.path.exists(lora_path) or\n",
        "  os.path.exists(model_dir_path) or\n",
        "  os.path.exists(out_dir)):\n",
        "  print(\"All directories exist\")\n",
        "else:\n",
        "  from google.colab import runtime\n",
        "  runtime.unassign()\n",
        "  raise Exception(\"Directory not found\")"
      ],
      "metadata": {
        "id": "1I72Oe1fYTTp"
      },
      "execution_count": null,
      "outputs": []
    },
    {
      "cell_type": "code",
      "source": [
        "seed_num = 50\n",
        "prompt = \"black background\"\n",
        "lora_id = \"rsd\"\n",
        "# prompt_lora = lora_id + \" \" + prompt\n",
        "prompt_lora = lora_id"
      ],
      "metadata": {
        "id": "UE4_Ff-AZPuK"
      },
      "execution_count": null,
      "outputs": []
    },
    {
      "cell_type": "code",
      "source": [
        "pipe = StableDiffusionPipeline.from_pretrained(model_dir_path, torch_dtype=torch.float16)\n",
        "pipe.to(\"cuda\")\n",
        "\n",
        "original_unet = pipe.unet"
      ],
      "metadata": {
        "id": "t-0mXWC7ZkNd"
      },
      "execution_count": null,
      "outputs": []
    },
    {
      "cell_type": "code",
      "source": [
        "def generate_and_save(pipe, prompt, seed, out_dir, suffix):\n",
        "  image = pipe(\n",
        "      prompt,\n",
        "      generator=torch.Generator(\"cuda\").manual_seed(seed)\n",
        "      ).images[0]\n",
        "  image.save(out_dir + f\"seed{seed}_\" + prompt.replace(\" \", \"_\") + f\"_{suffix}.png\")"
      ],
      "metadata": {
        "id": "ZzBUE8jLfPJL"
      },
      "execution_count": null,
      "outputs": []
    },
    {
      "cell_type": "code",
      "source": [
        "# for seed in range(seed_num):\n",
        "#   print(f\"seed: {seed} / {seed_num - 1}\")\n",
        "\n",
        "#   generate_and_save(pipe, prompt, seed, out_dir, \"ori\")\n",
        "#   generate_and_save(pipe, prompt_lora, seed, out_dir, \"ori\")"
      ],
      "metadata": {
        "id": "9iOFcJktchWB"
      },
      "execution_count": null,
      "outputs": []
    },
    {
      "cell_type": "code",
      "source": [
        "lora_unet = PeftModel.from_pretrained(original_unet, lora_path, adapter_name=lora_id)\n",
        "pipe.unet = lora_unet\n",
        "pipe.to(\"cuda\")"
      ],
      "metadata": {
        "id": "o3uvb8jFaUSe"
      },
      "execution_count": null,
      "outputs": []
    },
    {
      "cell_type": "code",
      "source": [
        "# for seed in range(seed_num):\n",
        "for seed in range(10, 50):\n",
        "  print(f\"seed: {seed} / {seed_num - 1}\")\n",
        "\n",
        "  # generate_and_save(pipe, prompt, seed, out_dir, \"lora\")\n",
        "  generate_and_save(pipe, prompt_lora, seed, out_dir, \"lora\")"
      ],
      "metadata": {
        "id": "6Iwzp14Ycl5g"
      },
      "execution_count": null,
      "outputs": []
    },
    {
      "cell_type": "code",
      "source": [
        "from google.colab import runtime\n",
        "runtime.unassign()"
      ],
      "metadata": {
        "id": "3ZohVqX4sIit"
      },
      "execution_count": null,
      "outputs": []
    }
  ]
}